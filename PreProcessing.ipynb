{
 "cells": [
  {
   "cell_type": "code",
   "execution_count": 1,
   "metadata": {},
   "outputs": [
    {
     "name": "stderr",
     "output_type": "stream",
     "text": [
      "/Users/lukechen/opt/anaconda3/lib/python3.8/site-packages/pandas/core/computation/expressions.py:20: UserWarning: Pandas requires version '2.7.3' or newer of 'numexpr' (version '2.7.1' currently installed).\n",
      "  from pandas.core.computation.check import NUMEXPR_INSTALLED\n"
     ]
    }
   ],
   "source": [
    "import pandas as pd"
   ]
  },
  {
   "cell_type": "code",
   "execution_count": 15,
   "metadata": {},
   "outputs": [
    {
     "data": {
      "text/plain": [
       "{'__header__': b'MATLAB 5.0 MAT-file, Platform: PCWIN64, Created on: Wed Dec  2 17:56:38 2020',\n",
       " '__version__': '1.0',\n",
       " '__globals__': [],\n",
       " 'Bin': array([[(array([[-2000,  2000]], dtype=int16), array([[20]], dtype=uint8), array([[20]], dtype=uint8), array([[-2000, -1980, -1960, -1940, -1920, -1900, -1880, -1860, -1840,\n",
       "                 -1820, -1800, -1780, -1760, -1740, -1720, -1700, -1680, -1660,\n",
       "                 -1640, -1620, -1600, -1580, -1560, -1540, -1520, -1500, -1480,\n",
       "                 -1460, -1440, -1420, -1400, -1380, -1360, -1340, -1320, -1300,\n",
       "                 -1280, -1260, -1240, -1220, -1200, -1180, -1160, -1140, -1120,\n",
       "                 -1100, -1080, -1060, -1040, -1020, -1000,  -980,  -960,  -940,\n",
       "                  -920,  -900,  -880,  -860,  -840,  -820,  -800,  -780,  -760,\n",
       "                  -740,  -720,  -700,  -680,  -660,  -640,  -620,  -600,  -580,\n",
       "                  -560,  -540,  -520,  -500,  -480,  -460,  -440,  -420,  -400,\n",
       "                  -380,  -360,  -340,  -320,  -300,  -280,  -260,  -240,  -220,\n",
       "                  -200,  -180,  -160,  -140,  -120,  -100,   -80,   -60,   -40,\n",
       "                   -20,     0,    20,    40,    60,    80,   100,   120,   140,\n",
       "                   160,   180,   200,   220,   240,   260,   280,   300,   320,\n",
       "                   340,   360,   380,   400,   420,   440,   460,   480,   500,\n",
       "                   520,   540,   560,   580,   600,   620,   640,   660,   680,\n",
       "                   700,   720,   740,   760,   780,   800,   820,   840,   860,\n",
       "                   880,   900,   920,   940,   960,   980,  1000,  1020,  1040,\n",
       "                  1060,  1080,  1100,  1120,  1140,  1160,  1180,  1200,  1220,\n",
       "                  1240,  1260,  1280,  1300,  1320,  1340,  1360,  1380,  1400,\n",
       "                  1420,  1440,  1460,  1480,  1500,  1520,  1540,  1560,  1580,\n",
       "                  1600,  1620,  1640,  1660,  1680,  1700,  1720,  1740,  1760,\n",
       "                  1780,  1800,  1820,  1840,  1860,  1880,  1900,  1920,  1940,\n",
       "                  1960,  1980,  2000]], dtype=int16), array(['cue'], dtype='<U3'))                                                                                            ]],\n",
       "       dtype=[('period', 'O'), ('size', 'O'), ('step', 'O'), ('cen', 'O'), ('center', 'O')]),\n",
       " 'Neurons': array([[array(['W'], dtype='<U1'), array(['B'], dtype='<U1'),\n",
       "         array(['20160122'], dtype='<U8'), ..., array([[1]], dtype=uint8),\n",
       "         array([[1]], dtype=uint8), array([[1]], dtype=uint8)],\n",
       "        [array(['W'], dtype='<U1'), array(['B'], dtype='<U1'),\n",
       "         array(['20160122'], dtype='<U8'), ..., array([[1]], dtype=uint8),\n",
       "         array([[2]], dtype=uint8), array([[1]], dtype=uint8)],\n",
       "        [array(['W'], dtype='<U1'), array(['B'], dtype='<U1'),\n",
       "         array(['20160122'], dtype='<U8'), ..., array([[2]], dtype=uint8),\n",
       "         array([[1]], dtype=uint8), array([[1]], dtype=uint8)],\n",
       "        ...,\n",
       "        [array(['W'], dtype='<U1'), array(['H'], dtype='<U1'),\n",
       "         array(['20160122'], dtype='<U8'), ...,\n",
       "         array([[765]], dtype=uint16), array([[1]], dtype=uint8),\n",
       "         array([[3]], dtype=uint8)],\n",
       "        [array(['W'], dtype='<U1'), array(['H'], dtype='<U1'),\n",
       "         array(['20160122'], dtype='<U8'), ...,\n",
       "         array([[765]], dtype=uint16), array([[2]], dtype=uint8),\n",
       "         array([[3]], dtype=uint8)],\n",
       "        [array(['W'], dtype='<U1'), array(['H'], dtype='<U1'),\n",
       "         array(['20160122'], dtype='<U8'), ...,\n",
       "         array([[767]], dtype=uint16), array([[1]], dtype=uint8),\n",
       "         array([[3]], dtype=uint8)]], dtype=object),\n",
       " 'beh': array([[(array([[1],\n",
       "                [0],\n",
       "                [0],\n",
       "                ...,\n",
       "                [0],\n",
       "                [0],\n",
       "                [1]], dtype=uint8), array([[0],\n",
       "                [0],\n",
       "                [0],\n",
       "                ...,\n",
       "                [1],\n",
       "                [1],\n",
       "                [0]], dtype=uint8), array([[1],\n",
       "                [1],\n",
       "                [1],\n",
       "                ...,\n",
       "                [1],\n",
       "                [1],\n",
       "                [1]], dtype=uint8), array([[ 1],\n",
       "                [ 1],\n",
       "                [ 1],\n",
       "                ...,\n",
       "                [27],\n",
       "                [27],\n",
       "                [27]], dtype=uint8), array([[1.68779384e-11],\n",
       "                [9.57937044e-12],\n",
       "                [1.68779384e-11],\n",
       "                ...,\n",
       "                [           nan],\n",
       "                [           nan],\n",
       "                [           nan]]), array([[0.5       ],\n",
       "                [0.42195122],\n",
       "                [0.36666667],\n",
       "                ...,\n",
       "                [       nan],\n",
       "                [       nan],\n",
       "                [       nan]]), array([[0.42195122],\n",
       "                [0.49768786],\n",
       "                [0.5       ],\n",
       "                ...,\n",
       "                [       nan],\n",
       "                [       nan],\n",
       "                [       nan]]), array([[0.5       ],\n",
       "                [0.5       ],\n",
       "                [0.61879987],\n",
       "                ...,\n",
       "                [0.5       ],\n",
       "                [0.61879987],\n",
       "                [0.5       ]]), array([[0],\n",
       "                [0],\n",
       "                [0],\n",
       "                ...,\n",
       "                [0],\n",
       "                [0],\n",
       "                [0]], dtype=uint8), array([[0],\n",
       "                [0],\n",
       "                [0],\n",
       "                ...,\n",
       "                [0],\n",
       "                [0],\n",
       "                [0]], dtype=uint8), array([[1],\n",
       "                [1],\n",
       "                [0],\n",
       "                ...,\n",
       "                [1],\n",
       "                [0],\n",
       "                [0]], dtype=uint8), array([[1],\n",
       "                [0],\n",
       "                [0],\n",
       "                ...,\n",
       "                [1],\n",
       "                [1],\n",
       "                [0]], dtype=uint8), array([[1, 1, 1, ..., 2, 1, 3]], dtype=uint8))]],\n",
       "       dtype=[('trialObject', 'O'), ('trialDirection', 'O'), ('blockType', 'O'), ('blockIndex', 'O'), ('mreverse', 'O'), ('mblockType', 'O'), ('iblockType', 'O'), ('trialValue', 'O'), ('reversal', 'O'), ('mreversal', 'O'), ('reward', 'O'), ('optimal', 'O'), ('choiceBack', 'O')]),\n",
       " 'spikeCount': array([[[0, 0, 0, ..., 0, 0, 0],\n",
       "         [0, 0, 0, ..., 0, 0, 0],\n",
       "         [0, 0, 0, ..., 0, 0, 0],\n",
       "         ...,\n",
       "         [0, 0, 0, ..., 0, 0, 0],\n",
       "         [0, 0, 0, ..., 0, 0, 0],\n",
       "         [0, 0, 0, ..., 0, 0, 0]],\n",
       " \n",
       "        [[0, 0, 0, ..., 0, 0, 0],\n",
       "         [0, 0, 0, ..., 0, 0, 0],\n",
       "         [0, 0, 0, ..., 0, 0, 0],\n",
       "         ...,\n",
       "         [0, 0, 0, ..., 0, 0, 0],\n",
       "         [0, 0, 0, ..., 0, 0, 0],\n",
       "         [0, 0, 0, ..., 0, 0, 0]],\n",
       " \n",
       "        [[0, 0, 0, ..., 0, 0, 0],\n",
       "         [0, 0, 0, ..., 0, 0, 0],\n",
       "         [0, 0, 0, ..., 0, 0, 0],\n",
       "         ...,\n",
       "         [0, 0, 0, ..., 0, 0, 0],\n",
       "         [0, 0, 0, ..., 0, 0, 0],\n",
       "         [0, 0, 0, ..., 0, 0, 0]],\n",
       " \n",
       "        ...,\n",
       " \n",
       "        [[0, 0, 0, ..., 0, 0, 0],\n",
       "         [0, 0, 0, ..., 0, 0, 0],\n",
       "         [0, 0, 0, ..., 0, 0, 0],\n",
       "         ...,\n",
       "         [0, 0, 0, ..., 0, 0, 0],\n",
       "         [0, 0, 0, ..., 0, 0, 0],\n",
       "         [0, 0, 0, ..., 0, 0, 0]],\n",
       " \n",
       "        [[0, 0, 0, ..., 0, 0, 0],\n",
       "         [0, 0, 0, ..., 0, 0, 0],\n",
       "         [0, 0, 0, ..., 0, 0, 0],\n",
       "         ...,\n",
       "         [0, 0, 0, ..., 0, 0, 0],\n",
       "         [0, 0, 0, ..., 0, 0, 0],\n",
       "         [0, 0, 0, ..., 0, 0, 0]],\n",
       " \n",
       "        [[0, 0, 0, ..., 0, 0, 0],\n",
       "         [0, 0, 0, ..., 0, 0, 0],\n",
       "         [0, 0, 0, ..., 0, 0, 0],\n",
       "         ...,\n",
       "         [0, 0, 0, ..., 0, 0, 0],\n",
       "         [0, 0, 0, ..., 0, 0, 0],\n",
       "         [0, 0, 0, ..., 0, 0, 0]]], dtype=uint8)}"
      ]
     },
     "execution_count": 15,
     "metadata": {},
     "output_type": "execute_result"
    }
   ],
   "source": [
    "import numpy as np\n",
    "from scipy.io import loadmat  # this is the SciPy module that loads mat-files\n",
    "import matplotlib.pyplot as plt\n",
    "from datetime import datetime, date, time\n",
    "import pandas as pd\n",
    "\n",
    "jan_22 = loadmat(\"w20160122_neurons.mat\")\n",
    "jan_22"
   ]
  },
  {
   "cell_type": "code",
   "execution_count": 173,
   "metadata": {},
   "outputs": [],
   "source": [
    "spikes = jan_22['spikeCount']\n",
    "neurons = jan_22['Neurons']\n",
    "bins = jan_22['Bin']"
   ]
  },
  {
   "cell_type": "code",
   "execution_count": 174,
   "metadata": {},
   "outputs": [
    {
     "data": {
      "text/plain": [
       "(1923, 585, 201)"
      ]
     },
     "execution_count": 174,
     "metadata": {},
     "output_type": "execute_result"
    }
   ],
   "source": [
    "spikes.shape # number of neurons, number of 20ms bins"
   ]
  },
  {
   "cell_type": "code",
   "execution_count": 169,
   "metadata": {},
   "outputs": [
    {
     "data": {
      "text/plain": [
       "1923"
      ]
     },
     "execution_count": 169,
     "metadata": {},
     "output_type": "execute_result"
    }
   ],
   "source": [
    "len(spikes)"
   ]
  },
  {
   "cell_type": "code",
   "execution_count": 70,
   "metadata": {},
   "outputs": [],
   "source": [
    "aNeurons = []\n",
    "bNeurons = []\n",
    "cNeurons = []\n",
    "dNeurons = []\n",
    "eNeurons = []\n",
    "fNeurons = []\n",
    "gNeurons = []\n",
    "for n in range(0,584):\n",
    "    if neurons[n][1][0] == 'A':\n",
    "        aNeurons.append(n)\n",
    "    if neurons[n][1][0] == 'B':\n",
    "        bNeurons.append(n)\n",
    "    if neurons[n][1][0] == 'C':\n",
    "        cNeurons.append(n)\n",
    "    if neurons[n][1][0] == 'D':\n",
    "        dNeurons.append(n)\n",
    "    if neurons[n][1][0] == 'E':\n",
    "        eNeurons.append(n)\n",
    "    if neurons[n][1][0] == 'F':\n",
    "        fNeurons.append(n)\n",
    "    if neurons[n][1][0] == 'G':\n",
    "        gNeurons.append(n)"
   ]
  },
  {
   "cell_type": "code",
   "execution_count": 175,
   "metadata": {},
   "outputs": [],
   "source": [
    "spikes = np.concatenate(spikes, 1)"
   ]
  },
  {
   "cell_type": "code",
   "execution_count": 176,
   "metadata": {},
   "outputs": [
    {
     "data": {
      "text/plain": [
       "(585, 386523)"
      ]
     },
     "execution_count": 176,
     "metadata": {},
     "output_type": "execute_result"
    }
   ],
   "source": [
    "spikes.shape"
   ]
  },
  {
   "cell_type": "code",
   "execution_count": 74,
   "metadata": {},
   "outputs": [
    {
     "data": {
      "text/plain": [
       "[110,\n",
       " 111,\n",
       " 112,\n",
       " 113,\n",
       " 114,\n",
       " 115,\n",
       " 116,\n",
       " 117,\n",
       " 118,\n",
       " 119,\n",
       " 120,\n",
       " 121,\n",
       " 122,\n",
       " 123,\n",
       " 124,\n",
       " 125,\n",
       " 126,\n",
       " 127,\n",
       " 128,\n",
       " 129,\n",
       " 130,\n",
       " 131,\n",
       " 132,\n",
       " 222,\n",
       " 223,\n",
       " 224,\n",
       " 225,\n",
       " 226,\n",
       " 227,\n",
       " 228,\n",
       " 229,\n",
       " 230,\n",
       " 231,\n",
       " 232,\n",
       " 233,\n",
       " 234,\n",
       " 235,\n",
       " 236,\n",
       " 237,\n",
       " 238,\n",
       " 239,\n",
       " 240,\n",
       " 241,\n",
       " 242,\n",
       " 243,\n",
       " 244,\n",
       " 245,\n",
       " 246,\n",
       " 247,\n",
       " 248,\n",
       " 249,\n",
       " 250,\n",
       " 251,\n",
       " 252,\n",
       " 253,\n",
       " 254,\n",
       " 255,\n",
       " 256,\n",
       " 257,\n",
       " 258,\n",
       " 259,\n",
       " 260,\n",
       " 261,\n",
       " 262,\n",
       " 263,\n",
       " 264,\n",
       " 265,\n",
       " 266,\n",
       " 267,\n",
       " 268,\n",
       " 269,\n",
       " 270,\n",
       " 271,\n",
       " 272,\n",
       " 273,\n",
       " 274,\n",
       " 275,\n",
       " 276,\n",
       " 277,\n",
       " 278,\n",
       " 279,\n",
       " 280,\n",
       " 281,\n",
       " 282,\n",
       " 283]"
      ]
     },
     "execution_count": 74,
     "metadata": {},
     "output_type": "execute_result"
    }
   ],
   "source": [
    "aNeurons"
   ]
  },
  {
   "cell_type": "code",
   "execution_count": 72,
   "metadata": {},
   "outputs": [
    {
     "data": {
      "text/plain": [
       "[306,\n",
       " 307,\n",
       " 308,\n",
       " 309,\n",
       " 310,\n",
       " 311,\n",
       " 312,\n",
       " 313,\n",
       " 314,\n",
       " 315,\n",
       " 316,\n",
       " 317,\n",
       " 318,\n",
       " 319,\n",
       " 320,\n",
       " 321,\n",
       " 322,\n",
       " 323,\n",
       " 324,\n",
       " 325,\n",
       " 326,\n",
       " 327,\n",
       " 328,\n",
       " 329,\n",
       " 330,\n",
       " 331,\n",
       " 332,\n",
       " 333,\n",
       " 334,\n",
       " 335,\n",
       " 336,\n",
       " 337,\n",
       " 338,\n",
       " 339,\n",
       " 340,\n",
       " 341,\n",
       " 342,\n",
       " 343,\n",
       " 344,\n",
       " 345,\n",
       " 346,\n",
       " 347,\n",
       " 348,\n",
       " 349,\n",
       " 350,\n",
       " 351,\n",
       " 352,\n",
       " 353,\n",
       " 354,\n",
       " 355,\n",
       " 356,\n",
       " 357,\n",
       " 358,\n",
       " 359,\n",
       " 360,\n",
       " 361,\n",
       " 362,\n",
       " 363,\n",
       " 364,\n",
       " 365,\n",
       " 366,\n",
       " 367,\n",
       " 368,\n",
       " 369,\n",
       " 370,\n",
       " 371,\n",
       " 372,\n",
       " 373,\n",
       " 374,\n",
       " 375,\n",
       " 376,\n",
       " 377,\n",
       " 378,\n",
       " 379,\n",
       " 380,\n",
       " 381,\n",
       " 382,\n",
       " 383]"
      ]
     },
     "execution_count": 72,
     "metadata": {},
     "output_type": "execute_result"
    }
   ],
   "source": [
    "cNeurons"
   ]
  },
  {
   "cell_type": "code",
   "execution_count": 68,
   "metadata": {},
   "outputs": [
    {
     "data": {
      "text/plain": [
       "[110,\n",
       " 111,\n",
       " 112,\n",
       " 113,\n",
       " 114,\n",
       " 115,\n",
       " 116,\n",
       " 117,\n",
       " 118,\n",
       " 119,\n",
       " 120,\n",
       " 121,\n",
       " 122,\n",
       " 123,\n",
       " 124,\n",
       " 125,\n",
       " 126,\n",
       " 127,\n",
       " 128,\n",
       " 129,\n",
       " 130,\n",
       " 131,\n",
       " 132,\n",
       " 222,\n",
       " 223,\n",
       " 224,\n",
       " 225,\n",
       " 226,\n",
       " 227,\n",
       " 228,\n",
       " 229,\n",
       " 230,\n",
       " 231,\n",
       " 232,\n",
       " 233,\n",
       " 234,\n",
       " 235,\n",
       " 236,\n",
       " 237,\n",
       " 238,\n",
       " 239,\n",
       " 240,\n",
       " 241,\n",
       " 242,\n",
       " 243,\n",
       " 244,\n",
       " 245,\n",
       " 246,\n",
       " 247,\n",
       " 248,\n",
       " 249,\n",
       " 250,\n",
       " 251,\n",
       " 252,\n",
       " 253,\n",
       " 254,\n",
       " 255,\n",
       " 256,\n",
       " 257,\n",
       " 258,\n",
       " 259,\n",
       " 260,\n",
       " 261,\n",
       " 262,\n",
       " 263,\n",
       " 264,\n",
       " 265,\n",
       " 266,\n",
       " 267,\n",
       " 268,\n",
       " 269,\n",
       " 270,\n",
       " 271,\n",
       " 272,\n",
       " 273,\n",
       " 274,\n",
       " 275,\n",
       " 276,\n",
       " 277,\n",
       " 278,\n",
       " 279,\n",
       " 280,\n",
       " 281,\n",
       " 282,\n",
       " 283]"
      ]
     },
     "execution_count": 68,
     "metadata": {},
     "output_type": "execute_result"
    }
   ],
   "source": [
    "aNeurons"
   ]
  },
  {
   "cell_type": "code",
   "execution_count": 177,
   "metadata": {},
   "outputs": [
    {
     "data": {
      "text/plain": [
       "(386523,)"
      ]
     },
     "execution_count": 177,
     "metadata": {},
     "output_type": "execute_result"
    }
   ],
   "source": [
    "X = spikes[120]\n",
    "X.shape"
   ]
  },
  {
   "cell_type": "code",
   "execution_count": 178,
   "metadata": {},
   "outputs": [
    {
     "data": {
      "text/plain": [
       "(386523,)"
      ]
     },
     "execution_count": 178,
     "metadata": {},
     "output_type": "execute_result"
    }
   ],
   "source": [
    "Y = spikes[350]\n",
    "Y.shape"
   ]
  },
  {
   "cell_type": "code",
   "execution_count": null,
   "metadata": {},
   "outputs": [],
   "source": [
    "from causal_ccm import *\n",
    "\n",
    "max_causality = (ccm(X, Y, tau = 1, E = 1)).causality() \n",
    "max_ccm = ccm(X, Y, tau = 1, E = 1)\n",
    "\n",
    "for e in range(1,5):\n",
    "    if (ccm(X, Y, tau = 1, E = e)).causality() > max_causality:\n",
    "        max_causality = ccm(X, Y, tau = 1, E = e).causality() # define ccm with X, Y time series\n",
    "        max_ccm = ccm(X, Y, tau = 1, E = e)\n",
    "        \n",
    "max_ccm.causality()"
   ]
  },
  {
   "cell_type": "code",
   "execution_count": 134,
   "metadata": {},
   "outputs": [
    {
     "data": {
      "text/plain": [
       "(nan, nan)"
      ]
     },
     "execution_count": 134,
     "metadata": {},
     "output_type": "execute_result"
    }
   ],
   "source": [
    "max_ccm.causality()"
   ]
  },
  {
   "cell_type": "code",
   "execution_count": null,
   "metadata": {},
   "outputs": [],
   "source": [
    "max_ccm.visualize_cross_mapping()"
   ]
  },
  {
   "cell_type": "code",
   "execution_count": 110,
   "metadata": {},
   "outputs": [
    {
     "ename": "Exception",
     "evalue": "CCM(): Invalid data input.",
     "output_type": "error",
     "traceback": [
      "\u001b[0;31m---------------------------------------------------------------------------\u001b[0m",
      "\u001b[0;31mException\u001b[0m                                 Traceback (most recent call last)",
      "\u001b[0;32m<ipython-input-110-57f357fdd5cc>\u001b[0m in \u001b[0;36m<module>\u001b[0;34m\u001b[0m\n\u001b[1;32m      4\u001b[0m \u001b[0;32mimport\u001b[0m \u001b[0mnumpy\u001b[0m \u001b[0;32mas\u001b[0m \u001b[0mnp\u001b[0m\u001b[0;34m\u001b[0m\u001b[0;34m\u001b[0m\u001b[0m\n\u001b[1;32m      5\u001b[0m \u001b[0;34m\u001b[0m\u001b[0m\n\u001b[0;32m----> 6\u001b[0;31m CCM( E = 2, \n\u001b[0m\u001b[1;32m      7\u001b[0m      \u001b[0mcolumns\u001b[0m \u001b[0;34m=\u001b[0m \u001b[0mX\u001b[0m\u001b[0;34m,\u001b[0m \u001b[0mtarget\u001b[0m \u001b[0;34m=\u001b[0m \u001b[0mY\u001b[0m\u001b[0;34m,\u001b[0m\u001b[0;34m\u001b[0m\u001b[0;34m\u001b[0m\u001b[0m\n\u001b[1;32m      8\u001b[0m      libSizes = \"100 200 300\", showPlot = True );\n",
      "\u001b[0;32m~/opt/anaconda3/lib/python3.8/site-packages/pyEDM/CoreEDM.py\u001b[0m in \u001b[0;36mCCM\u001b[0;34m(pathIn, dataFile, dataFrame, pathOut, predictFile, E, Tp, knn, tau, exclusionRadius, columns, target, libSizes, sample, random, replacement, seed, embedded, includeData, parameterList, verbose, showPlot)\u001b[0m\n\u001b[1;32m    379\u001b[0m         \u001b[0mDF\u001b[0m \u001b[0;34m=\u001b[0m \u001b[0mpyEDM\u001b[0m\u001b[0;34m.\u001b[0m\u001b[0mAuxFunc\u001b[0m\u001b[0;34m.\u001b[0m\u001b[0mPandasDataFrametoDF\u001b[0m\u001b[0;34m(\u001b[0m \u001b[0mdataFrame\u001b[0m \u001b[0;34m)\u001b[0m\u001b[0;34m\u001b[0m\u001b[0;34m\u001b[0m\u001b[0m\n\u001b[1;32m    380\u001b[0m     \u001b[0;32melse\u001b[0m \u001b[0;34m:\u001b[0m\u001b[0;34m\u001b[0m\u001b[0;34m\u001b[0m\u001b[0m\n\u001b[0;32m--> 381\u001b[0;31m         \u001b[0;32mraise\u001b[0m \u001b[0mException\u001b[0m\u001b[0;34m(\u001b[0m \u001b[0;34m\"CCM(): Invalid data input.\"\u001b[0m \u001b[0;34m)\u001b[0m\u001b[0;34m\u001b[0m\u001b[0;34m\u001b[0m\u001b[0m\n\u001b[0m\u001b[1;32m    382\u001b[0m \u001b[0;34m\u001b[0m\u001b[0m\n\u001b[1;32m    383\u001b[0m     \u001b[0;31m# If columns, libSizes, target are not string, but iterable, convert to string\u001b[0m\u001b[0;34m\u001b[0m\u001b[0;34m\u001b[0m\u001b[0;34m\u001b[0m\u001b[0m\n",
      "\u001b[0;31mException\u001b[0m: CCM(): Invalid data input."
     ]
    }
   ],
   "source": [
    "from pyEDM import *\n",
    "import matplotlib.pyplot as plt\n",
    "import pandas as pd\n",
    "import numpy as np\n",
    "\n",
    "CCM( E = 2, \n",
    "     columns = X, target = Y,\n",
    "     libSizes = \"100 200 300\", showPlot = True );"
   ]
  }
 ],
 "metadata": {
  "kernelspec": {
   "display_name": "Python 3",
   "language": "python",
   "name": "python3"
  },
  "language_info": {
   "codemirror_mode": {
    "name": "ipython",
    "version": 3
   },
   "file_extension": ".py",
   "mimetype": "text/x-python",
   "name": "python",
   "nbconvert_exporter": "python",
   "pygments_lexer": "ipython3",
   "version": "3.8.3"
  }
 },
 "nbformat": 4,
 "nbformat_minor": 4
}
